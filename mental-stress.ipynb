{
 "cells": [
  {
   "cell_type": "code",
   "execution_count": 261,
   "metadata": {},
   "outputs": [],
   "source": [
    "import pandas as pd"
   ]
  },
  {
   "cell_type": "code",
   "execution_count": 262,
   "metadata": {},
   "outputs": [
    {
     "name": "stderr",
     "output_type": "stream",
     "text": [
      "/var/folders/8t/gvv4mvq55nv9hrww0yk38zv80000gn/T/ipykernel_43984/3979618993.py:1: DtypeWarning: Columns (4) have mixed types. Specify dtype option on import or set low_memory=False.\n",
      "  data = pd.read_csv(\"Chloe_Full_Health.csv\")\n"
     ]
    }
   ],
   "source": [
    "data = pd.read_csv(\"Chloe_Full_Health.csv\")"
   ]
  },
  {
   "cell_type": "code",
   "execution_count": 263,
   "metadata": {},
   "outputs": [
    {
     "data": {
      "text/html": [
       "<div>\n",
       "<style scoped>\n",
       "    .dataframe tbody tr th:only-of-type {\n",
       "        vertical-align: middle;\n",
       "    }\n",
       "\n",
       "    .dataframe tbody tr th {\n",
       "        vertical-align: top;\n",
       "    }\n",
       "\n",
       "    .dataframe thead th {\n",
       "        text-align: right;\n",
       "    }\n",
       "</style>\n",
       "<table border=\"1\" class=\"dataframe\">\n",
       "  <thead>\n",
       "    <tr style=\"text-align: right;\">\n",
       "      <th></th>\n",
       "      <th>Unnamed: 0</th>\n",
       "      <th>type</th>\n",
       "      <th>unit</th>\n",
       "      <th>startDate</th>\n",
       "      <th>value</th>\n",
       "      <th>Date</th>\n",
       "      <th>Day</th>\n",
       "      <th>ActivityType</th>\n",
       "    </tr>\n",
       "  </thead>\n",
       "  <tbody>\n",
       "    <tr>\n",
       "      <th>0</th>\n",
       "      <td>0</td>\n",
       "      <td>HKQuantityTypeIdentifierHeight</td>\n",
       "      <td>ft</td>\n",
       "      <td>2024-01-19 01:11:52 -0500</td>\n",
       "      <td>5.75</td>\n",
       "      <td>2024-01-19</td>\n",
       "      <td>Friday</td>\n",
       "      <td>Height</td>\n",
       "    </tr>\n",
       "    <tr>\n",
       "      <th>1</th>\n",
       "      <td>1</td>\n",
       "      <td>HKQuantityTypeIdentifierHeartRate</td>\n",
       "      <td>count/min</td>\n",
       "      <td>2021-10-21 01:58:02 -0500</td>\n",
       "      <td>80.0</td>\n",
       "      <td>2021-10-21</td>\n",
       "      <td>Thursday</td>\n",
       "      <td>HeartRate</td>\n",
       "    </tr>\n",
       "    <tr>\n",
       "      <th>2</th>\n",
       "      <td>2</td>\n",
       "      <td>HKQuantityTypeIdentifierHeartRate</td>\n",
       "      <td>count/min</td>\n",
       "      <td>2021-10-21 01:59:03 -0500</td>\n",
       "      <td>76.5744</td>\n",
       "      <td>2021-10-21</td>\n",
       "      <td>Thursday</td>\n",
       "      <td>HeartRate</td>\n",
       "    </tr>\n",
       "    <tr>\n",
       "      <th>3</th>\n",
       "      <td>3</td>\n",
       "      <td>HKQuantityTypeIdentifierHeartRate</td>\n",
       "      <td>count/min</td>\n",
       "      <td>2021-10-21 02:01:39 -0500</td>\n",
       "      <td>76.0</td>\n",
       "      <td>2021-10-21</td>\n",
       "      <td>Thursday</td>\n",
       "      <td>HeartRate</td>\n",
       "    </tr>\n",
       "    <tr>\n",
       "      <th>4</th>\n",
       "      <td>4</td>\n",
       "      <td>HKQuantityTypeIdentifierHeartRate</td>\n",
       "      <td>count/min</td>\n",
       "      <td>2021-10-21 02:04:49 -0500</td>\n",
       "      <td>74.0</td>\n",
       "      <td>2021-10-21</td>\n",
       "      <td>Thursday</td>\n",
       "      <td>HeartRate</td>\n",
       "    </tr>\n",
       "  </tbody>\n",
       "</table>\n",
       "</div>"
      ],
      "text/plain": [
       "   Unnamed: 0                               type       unit  \\\n",
       "0           0     HKQuantityTypeIdentifierHeight         ft   \n",
       "1           1  HKQuantityTypeIdentifierHeartRate  count/min   \n",
       "2           2  HKQuantityTypeIdentifierHeartRate  count/min   \n",
       "3           3  HKQuantityTypeIdentifierHeartRate  count/min   \n",
       "4           4  HKQuantityTypeIdentifierHeartRate  count/min   \n",
       "\n",
       "                   startDate    value        Date       Day ActivityType  \n",
       "0  2024-01-19 01:11:52 -0500     5.75  2024-01-19    Friday       Height  \n",
       "1  2021-10-21 01:58:02 -0500     80.0  2021-10-21  Thursday    HeartRate  \n",
       "2  2021-10-21 01:59:03 -0500  76.5744  2021-10-21  Thursday    HeartRate  \n",
       "3  2021-10-21 02:01:39 -0500     76.0  2021-10-21  Thursday    HeartRate  \n",
       "4  2021-10-21 02:04:49 -0500     74.0  2021-10-21  Thursday    HeartRate  "
      ]
     },
     "execution_count": 263,
     "metadata": {},
     "output_type": "execute_result"
    }
   ],
   "source": [
    "data.head()"
   ]
  },
  {
   "cell_type": "code",
   "execution_count": 264,
   "metadata": {},
   "outputs": [],
   "source": [
    "data = data.loc[:, [\"value\", \"Date\", \"ActivityType\"]]"
   ]
  },
  {
   "cell_type": "code",
   "execution_count": 265,
   "metadata": {},
   "outputs": [
    {
     "data": {
      "text/plain": [
       "(1545669, 3)"
      ]
     },
     "execution_count": 265,
     "metadata": {},
     "output_type": "execute_result"
    }
   ],
   "source": [
    "data.shape"
   ]
  },
  {
   "cell_type": "code",
   "execution_count": 266,
   "metadata": {},
   "outputs": [
    {
     "data": {
      "text/plain": [
       "array(['Height', 'HeartRate', 'RespiratoryRate', 'StepCount',\n",
       "       'DistanceWalkingRunning', 'BasalEnergyBurned',\n",
       "       'ActiveEnergyBurned', 'FlightsClimbed', 'DietaryFatTotal',\n",
       "       'DietaryFatSaturated', 'DietarySodium', 'DietarySugar',\n",
       "       'DietaryProtein', 'DietaryVitaminD', 'DietaryIron',\n",
       "       'AppleExerciseTime', 'DietaryCaffeine', 'DistanceSwimming',\n",
       "       'SwimmingStrokeCount', 'RestingHeartRate',\n",
       "       'WalkingHeartRateAverage', 'DistanceDownhillSnowSports',\n",
       "       'HeadphoneAudioExposure', 'WalkingDoubleSupportPercentage',\n",
       "       'SixMinuteWalkTestDistance', 'AppleStandTime', 'WalkingSpeed',\n",
       "       'WalkingStepLength', 'WalkingAsymmetryPercentage',\n",
       "       'AppleWalkingSteadiness', 'HKCategoryTypeIdentifierSleepAnalysis',\n",
       "       'HKCategoryTypeIdentifierAppleStandHour',\n",
       "       'HKCategoryTypeIdentifierMindfulSession',\n",
       "       'HeartRateVariabilitySDNN'], dtype=object)"
      ]
     },
     "execution_count": 266,
     "metadata": {},
     "output_type": "execute_result"
    }
   ],
   "source": [
    "data[\"ActivityType\"].unique()"
   ]
  },
  {
   "cell_type": "code",
   "execution_count": 267,
   "metadata": {},
   "outputs": [],
   "source": [
    "select = ['HeartRate', 'RespiratoryRate', 'RestingHeartRate', 'WalkingAsymmetryPercentage']\n",
    "data = data[data['ActivityType'].isin(select)]"
   ]
  },
  {
   "cell_type": "code",
   "execution_count": 268,
   "metadata": {},
   "outputs": [
    {
     "data": {
      "text/html": [
       "<div>\n",
       "<style scoped>\n",
       "    .dataframe tbody tr th:only-of-type {\n",
       "        vertical-align: middle;\n",
       "    }\n",
       "\n",
       "    .dataframe tbody tr th {\n",
       "        vertical-align: top;\n",
       "    }\n",
       "\n",
       "    .dataframe thead th {\n",
       "        text-align: right;\n",
       "    }\n",
       "</style>\n",
       "<table border=\"1\" class=\"dataframe\">\n",
       "  <thead>\n",
       "    <tr style=\"text-align: right;\">\n",
       "      <th></th>\n",
       "      <th>value</th>\n",
       "      <th>Date</th>\n",
       "      <th>ActivityType</th>\n",
       "    </tr>\n",
       "  </thead>\n",
       "  <tbody>\n",
       "    <tr>\n",
       "      <th>1</th>\n",
       "      <td>80.0</td>\n",
       "      <td>2021-10-21</td>\n",
       "      <td>HeartRate</td>\n",
       "    </tr>\n",
       "    <tr>\n",
       "      <th>2</th>\n",
       "      <td>76.5744</td>\n",
       "      <td>2021-10-21</td>\n",
       "      <td>HeartRate</td>\n",
       "    </tr>\n",
       "    <tr>\n",
       "      <th>3</th>\n",
       "      <td>76.0</td>\n",
       "      <td>2021-10-21</td>\n",
       "      <td>HeartRate</td>\n",
       "    </tr>\n",
       "    <tr>\n",
       "      <th>4</th>\n",
       "      <td>74.0</td>\n",
       "      <td>2021-10-21</td>\n",
       "      <td>HeartRate</td>\n",
       "    </tr>\n",
       "    <tr>\n",
       "      <th>5</th>\n",
       "      <td>74.0</td>\n",
       "      <td>2021-10-21</td>\n",
       "      <td>HeartRate</td>\n",
       "    </tr>\n",
       "    <tr>\n",
       "      <th>...</th>\n",
       "      <td>...</td>\n",
       "      <td>...</td>\n",
       "      <td>...</td>\n",
       "    </tr>\n",
       "    <tr>\n",
       "      <th>1517920</th>\n",
       "      <td>0</td>\n",
       "      <td>2024-04-11</td>\n",
       "      <td>WalkingAsymmetryPercentage</td>\n",
       "    </tr>\n",
       "    <tr>\n",
       "      <th>1517921</th>\n",
       "      <td>0</td>\n",
       "      <td>2024-04-12</td>\n",
       "      <td>WalkingAsymmetryPercentage</td>\n",
       "    </tr>\n",
       "    <tr>\n",
       "      <th>1517922</th>\n",
       "      <td>0</td>\n",
       "      <td>2024-04-12</td>\n",
       "      <td>WalkingAsymmetryPercentage</td>\n",
       "    </tr>\n",
       "    <tr>\n",
       "      <th>1517923</th>\n",
       "      <td>0.06</td>\n",
       "      <td>2024-04-12</td>\n",
       "      <td>WalkingAsymmetryPercentage</td>\n",
       "    </tr>\n",
       "    <tr>\n",
       "      <th>1517924</th>\n",
       "      <td>0</td>\n",
       "      <td>2024-04-12</td>\n",
       "      <td>WalkingAsymmetryPercentage</td>\n",
       "    </tr>\n",
       "  </tbody>\n",
       "</table>\n",
       "<p>269322 rows × 3 columns</p>\n",
       "</div>"
      ],
      "text/plain": [
       "           value        Date                ActivityType\n",
       "1           80.0  2021-10-21                   HeartRate\n",
       "2        76.5744  2021-10-21                   HeartRate\n",
       "3           76.0  2021-10-21                   HeartRate\n",
       "4           74.0  2021-10-21                   HeartRate\n",
       "5           74.0  2021-10-21                   HeartRate\n",
       "...          ...         ...                         ...\n",
       "1517920        0  2024-04-11  WalkingAsymmetryPercentage\n",
       "1517921        0  2024-04-12  WalkingAsymmetryPercentage\n",
       "1517922        0  2024-04-12  WalkingAsymmetryPercentage\n",
       "1517923     0.06  2024-04-12  WalkingAsymmetryPercentage\n",
       "1517924        0  2024-04-12  WalkingAsymmetryPercentage\n",
       "\n",
       "[269322 rows x 3 columns]"
      ]
     },
     "execution_count": 268,
     "metadata": {},
     "output_type": "execute_result"
    }
   ],
   "source": [
    "data"
   ]
  },
  {
   "cell_type": "code",
   "execution_count": 269,
   "metadata": {},
   "outputs": [
    {
     "data": {
      "text/plain": [
       "(269322, 3)"
      ]
     },
     "execution_count": 269,
     "metadata": {},
     "output_type": "execute_result"
    }
   ],
   "source": [
    "data.shape"
   ]
  },
  {
   "cell_type": "code",
   "execution_count": 270,
   "metadata": {},
   "outputs": [
    {
     "data": {
      "text/html": [
       "<div>\n",
       "<style scoped>\n",
       "    .dataframe tbody tr th:only-of-type {\n",
       "        vertical-align: middle;\n",
       "    }\n",
       "\n",
       "    .dataframe tbody tr th {\n",
       "        vertical-align: top;\n",
       "    }\n",
       "\n",
       "    .dataframe thead th {\n",
       "        text-align: right;\n",
       "    }\n",
       "</style>\n",
       "<table border=\"1\" class=\"dataframe\">\n",
       "  <thead>\n",
       "    <tr style=\"text-align: right;\">\n",
       "      <th></th>\n",
       "      <th>value</th>\n",
       "      <th>Date</th>\n",
       "      <th>ActivityType</th>\n",
       "    </tr>\n",
       "  </thead>\n",
       "  <tbody>\n",
       "    <tr>\n",
       "      <th>1</th>\n",
       "      <td>80.0</td>\n",
       "      <td>2021-10-21</td>\n",
       "      <td>HeartRate</td>\n",
       "    </tr>\n",
       "    <tr>\n",
       "      <th>2</th>\n",
       "      <td>76.5744</td>\n",
       "      <td>2021-10-21</td>\n",
       "      <td>HeartRate</td>\n",
       "    </tr>\n",
       "    <tr>\n",
       "      <th>3</th>\n",
       "      <td>76.0</td>\n",
       "      <td>2021-10-21</td>\n",
       "      <td>HeartRate</td>\n",
       "    </tr>\n",
       "    <tr>\n",
       "      <th>4</th>\n",
       "      <td>74.0</td>\n",
       "      <td>2021-10-21</td>\n",
       "      <td>HeartRate</td>\n",
       "    </tr>\n",
       "    <tr>\n",
       "      <th>5</th>\n",
       "      <td>74.0</td>\n",
       "      <td>2021-10-21</td>\n",
       "      <td>HeartRate</td>\n",
       "    </tr>\n",
       "    <tr>\n",
       "      <th>...</th>\n",
       "      <td>...</td>\n",
       "      <td>...</td>\n",
       "      <td>...</td>\n",
       "    </tr>\n",
       "    <tr>\n",
       "      <th>1517920</th>\n",
       "      <td>0</td>\n",
       "      <td>2024-04-11</td>\n",
       "      <td>WalkingAsymmetryPercentage</td>\n",
       "    </tr>\n",
       "    <tr>\n",
       "      <th>1517921</th>\n",
       "      <td>0</td>\n",
       "      <td>2024-04-12</td>\n",
       "      <td>WalkingAsymmetryPercentage</td>\n",
       "    </tr>\n",
       "    <tr>\n",
       "      <th>1517922</th>\n",
       "      <td>0</td>\n",
       "      <td>2024-04-12</td>\n",
       "      <td>WalkingAsymmetryPercentage</td>\n",
       "    </tr>\n",
       "    <tr>\n",
       "      <th>1517923</th>\n",
       "      <td>0.06</td>\n",
       "      <td>2024-04-12</td>\n",
       "      <td>WalkingAsymmetryPercentage</td>\n",
       "    </tr>\n",
       "    <tr>\n",
       "      <th>1517924</th>\n",
       "      <td>0</td>\n",
       "      <td>2024-04-12</td>\n",
       "      <td>WalkingAsymmetryPercentage</td>\n",
       "    </tr>\n",
       "  </tbody>\n",
       "</table>\n",
       "<p>269322 rows × 3 columns</p>\n",
       "</div>"
      ],
      "text/plain": [
       "           value        Date                ActivityType\n",
       "1           80.0  2021-10-21                   HeartRate\n",
       "2        76.5744  2021-10-21                   HeartRate\n",
       "3           76.0  2021-10-21                   HeartRate\n",
       "4           74.0  2021-10-21                   HeartRate\n",
       "5           74.0  2021-10-21                   HeartRate\n",
       "...          ...         ...                         ...\n",
       "1517920        0  2024-04-11  WalkingAsymmetryPercentage\n",
       "1517921        0  2024-04-12  WalkingAsymmetryPercentage\n",
       "1517922        0  2024-04-12  WalkingAsymmetryPercentage\n",
       "1517923     0.06  2024-04-12  WalkingAsymmetryPercentage\n",
       "1517924        0  2024-04-12  WalkingAsymmetryPercentage\n",
       "\n",
       "[269322 rows x 3 columns]"
      ]
     },
     "execution_count": 270,
     "metadata": {},
     "output_type": "execute_result"
    }
   ],
   "source": [
    "data"
   ]
  },
  {
   "cell_type": "code",
   "execution_count": 271,
   "metadata": {},
   "outputs": [],
   "source": [
    "data['Date'] = pd.to_datetime(data['Date'])"
   ]
  },
  {
   "cell_type": "code",
   "execution_count": 272,
   "metadata": {},
   "outputs": [],
   "source": [
    "# Ensure 'Value' column contains numeric values\n",
    "data['value'] = pd.to_numeric(data['value'], errors='coerce')"
   ]
  },
  {
   "cell_type": "code",
   "execution_count": 273,
   "metadata": {},
   "outputs": [],
   "source": [
    "# Check for non-numeric values in 'Value' column\n",
    "non_numeric_mask = data['value'].isna()\n",
    "if non_numeric_mask.any():\n",
    "    print(\"Warning: There are non-numeric values in the 'Value' column. These rows will be dropped.\")\n"
   ]
  },
  {
   "cell_type": "code",
   "execution_count": 274,
   "metadata": {},
   "outputs": [],
   "source": [
    "data = data.dropna(subset= ['value'])"
   ]
  },
  {
   "cell_type": "code",
   "execution_count": 275,
   "metadata": {},
   "outputs": [],
   "source": [
    "average_values = data.groupby(['Date', 'ActivityType'])['value'].mean().reset_index(name = \"AverageValue\")"
   ]
  },
  {
   "cell_type": "code",
   "execution_count": 276,
   "metadata": {},
   "outputs": [
    {
     "data": {
      "text/plain": [
       "(3347, 3)"
      ]
     },
     "execution_count": 276,
     "metadata": {},
     "output_type": "execute_result"
    }
   ],
   "source": [
    "average_values.shape"
   ]
  },
  {
   "cell_type": "code",
   "execution_count": 277,
   "metadata": {},
   "outputs": [
    {
     "data": {
      "text/html": [
       "<div>\n",
       "<style scoped>\n",
       "    .dataframe tbody tr th:only-of-type {\n",
       "        vertical-align: middle;\n",
       "    }\n",
       "\n",
       "    .dataframe tbody tr th {\n",
       "        vertical-align: top;\n",
       "    }\n",
       "\n",
       "    .dataframe thead th {\n",
       "        text-align: right;\n",
       "    }\n",
       "</style>\n",
       "<table border=\"1\" class=\"dataframe\">\n",
       "  <thead>\n",
       "    <tr style=\"text-align: right;\">\n",
       "      <th></th>\n",
       "      <th>Date</th>\n",
       "      <th>ActivityType</th>\n",
       "      <th>AverageValue</th>\n",
       "    </tr>\n",
       "  </thead>\n",
       "  <tbody>\n",
       "    <tr>\n",
       "      <th>0</th>\n",
       "      <td>2021-10-11</td>\n",
       "      <td>WalkingAsymmetryPercentage</td>\n",
       "      <td>0.000000</td>\n",
       "    </tr>\n",
       "    <tr>\n",
       "      <th>1</th>\n",
       "      <td>2021-10-12</td>\n",
       "      <td>WalkingAsymmetryPercentage</td>\n",
       "      <td>0.006667</td>\n",
       "    </tr>\n",
       "    <tr>\n",
       "      <th>2</th>\n",
       "      <td>2021-10-13</td>\n",
       "      <td>WalkingAsymmetryPercentage</td>\n",
       "      <td>0.007647</td>\n",
       "    </tr>\n",
       "    <tr>\n",
       "      <th>3</th>\n",
       "      <td>2021-10-14</td>\n",
       "      <td>WalkingAsymmetryPercentage</td>\n",
       "      <td>0.000000</td>\n",
       "    </tr>\n",
       "    <tr>\n",
       "      <th>4</th>\n",
       "      <td>2021-10-15</td>\n",
       "      <td>WalkingAsymmetryPercentage</td>\n",
       "      <td>0.006250</td>\n",
       "    </tr>\n",
       "    <tr>\n",
       "      <th>...</th>\n",
       "      <td>...</td>\n",
       "      <td>...</td>\n",
       "      <td>...</td>\n",
       "    </tr>\n",
       "    <tr>\n",
       "      <th>3342</th>\n",
       "      <td>2024-04-11</td>\n",
       "      <td>RestingHeartRate</td>\n",
       "      <td>67.000000</td>\n",
       "    </tr>\n",
       "    <tr>\n",
       "      <th>3343</th>\n",
       "      <td>2024-04-11</td>\n",
       "      <td>WalkingAsymmetryPercentage</td>\n",
       "      <td>0.100000</td>\n",
       "    </tr>\n",
       "    <tr>\n",
       "      <th>3344</th>\n",
       "      <td>2024-04-12</td>\n",
       "      <td>HeartRate</td>\n",
       "      <td>96.119467</td>\n",
       "    </tr>\n",
       "    <tr>\n",
       "      <th>3345</th>\n",
       "      <td>2024-04-12</td>\n",
       "      <td>RestingHeartRate</td>\n",
       "      <td>60.000000</td>\n",
       "    </tr>\n",
       "    <tr>\n",
       "      <th>3346</th>\n",
       "      <td>2024-04-12</td>\n",
       "      <td>WalkingAsymmetryPercentage</td>\n",
       "      <td>0.015000</td>\n",
       "    </tr>\n",
       "  </tbody>\n",
       "</table>\n",
       "<p>3347 rows × 3 columns</p>\n",
       "</div>"
      ],
      "text/plain": [
       "           Date                ActivityType  AverageValue\n",
       "0    2021-10-11  WalkingAsymmetryPercentage      0.000000\n",
       "1    2021-10-12  WalkingAsymmetryPercentage      0.006667\n",
       "2    2021-10-13  WalkingAsymmetryPercentage      0.007647\n",
       "3    2021-10-14  WalkingAsymmetryPercentage      0.000000\n",
       "4    2021-10-15  WalkingAsymmetryPercentage      0.006250\n",
       "...         ...                         ...           ...\n",
       "3342 2024-04-11            RestingHeartRate     67.000000\n",
       "3343 2024-04-11  WalkingAsymmetryPercentage      0.100000\n",
       "3344 2024-04-12                   HeartRate     96.119467\n",
       "3345 2024-04-12            RestingHeartRate     60.000000\n",
       "3346 2024-04-12  WalkingAsymmetryPercentage      0.015000\n",
       "\n",
       "[3347 rows x 3 columns]"
      ]
     },
     "execution_count": 277,
     "metadata": {},
     "output_type": "execute_result"
    }
   ],
   "source": [
    "average_values"
   ]
  },
  {
   "cell_type": "code",
   "execution_count": 278,
   "metadata": {},
   "outputs": [
    {
     "data": {
      "text/plain": [
       "array(['WalkingAsymmetryPercentage', 'RestingHeartRate', 'HeartRate',\n",
       "       'RespiratoryRate'], dtype=object)"
      ]
     },
     "execution_count": 278,
     "metadata": {},
     "output_type": "execute_result"
    }
   ],
   "source": [
    "average_values[\"ActivityType\"].unique()"
   ]
  },
  {
   "cell_type": "code",
   "execution_count": 279,
   "metadata": {},
   "outputs": [],
   "source": [
    "# Define thresholds\n",
    "thresholds = {\n",
    "    'HeartRate': 100,\n",
    "    'RespiratoryRate': 20,\n",
    "    'WalkingAsymmetryPercentage': 15\n",
    "}"
   ]
  },
  {
   "cell_type": "code",
   "execution_count": 280,
   "metadata": {},
   "outputs": [],
   "source": [
    "# Iterate through the data and add a message if thresholds are exceeded\n",
    "for index, row in average_values.iterrows():\n",
    "    if row['ActivityType'] in thresholds and row['AverageValue'] > thresholds[row['ActivityType']]:\n",
    "        average_values.at[index, 'Message'] = \"Consider taking a mental health break.\"\n"
   ]
  },
  {
   "cell_type": "code",
   "execution_count": 281,
   "metadata": {},
   "outputs": [],
   "source": [
    "average_values.to_csv('output-mental-stress.csv')"
   ]
  },
  {
   "cell_type": "code",
   "execution_count": 282,
   "metadata": {},
   "outputs": [
    {
     "name": "stdout",
     "output_type": "stream",
     "text": [
      "           Date     ActivityType  AverageValue  \\\n",
      "11   2021-10-21        HeartRate    104.729802   \n",
      "36   2021-10-28        HeartRate    109.579878   \n",
      "40   2021-10-29        HeartRate    101.539930   \n",
      "84   2021-11-09        HeartRate    105.681533   \n",
      "92   2021-11-11        HeartRate    103.974096   \n",
      "...         ...              ...           ...   \n",
      "3311 2024-04-02  RespiratoryRate     21.000000   \n",
      "3318 2024-04-04  RespiratoryRate     21.375000   \n",
      "3322 2024-04-05  RespiratoryRate     20.500000   \n",
      "3326 2024-04-06  RespiratoryRate     23.400000   \n",
      "3333 2024-04-08  RespiratoryRate     25.000000   \n",
      "\n",
      "                                     Message  \n",
      "11    Consider taking a mental health break.  \n",
      "36    Consider taking a mental health break.  \n",
      "40    Consider taking a mental health break.  \n",
      "84    Consider taking a mental health break.  \n",
      "92    Consider taking a mental health break.  \n",
      "...                                      ...  \n",
      "3311  Consider taking a mental health break.  \n",
      "3318  Consider taking a mental health break.  \n",
      "3322  Consider taking a mental health break.  \n",
      "3326  Consider taking a mental health break.  \n",
      "3333  Consider taking a mental health break.  \n",
      "\n",
      "[434 rows x 4 columns]\n"
     ]
    },
    {
     "name": "stderr",
     "output_type": "stream",
     "text": [
      "/var/folders/8t/gvv4mvq55nv9hrww0yk38zv80000gn/T/ipykernel_43984/2847974071.py:2: UserWarning: Boolean Series key will be reindexed to match DataFrame index.\n",
      "  thresholded_data = pd.concat([average_values[average_values['ActivityType'] == activity_type][average_values['AverageValue'] > threshold]\n"
     ]
    }
   ],
   "source": [
    "# Apply threshold conditions for each activity type\n",
    "thresholded_data = pd.concat([average_values[average_values['ActivityType'] == activity_type][average_values['AverageValue'] > threshold]\n",
    "                              for activity_type, threshold in thresholds.items()])\n",
    "\n",
    "print(thresholded_data)"
   ]
  },
  {
   "cell_type": "code",
   "execution_count": 283,
   "metadata": {},
   "outputs": [],
   "source": [
    "from collections import defaultdict\n",
    "import pandas as pd\n",
    "from datetime import datetime, timedelta\n",
    "import calendar\n",
    "\n",
    "def predict_stressful_week(assignments):\n",
    "    stress_keywords = [\"test\", \"deadline\", \"presentation\", \"meeting\"]\n",
    "    event_counts_per_day = defaultdict(int)\n",
    "    current_week = datetime.now().isocalendar()[1]  # Get the current week number\n",
    "\n",
    "    # Convert \"Due Date\" column to datetime\n",
    "    assignments[\"Due Date\"] = pd.to_datetime(assignments[\"Due Date\"], errors=\"coerce\")\n",
    "\n",
    "    for index, assignment in assignments.iterrows():\n",
    "        # Extracting the name and due date from the assignment\n",
    "        name = assignment[\"Name\"]\n",
    "        due_date = assignment[\"Due Date\"]\n",
    "\n",
    "        # Checking if the assignment is due the same week\n",
    "        if pd.notnull(due_date) and due_date.isocalendar()[1] == current_week:\n",
    "            event_counts_per_day[due_date.date()] += 1\n",
    "\n",
    "        # Checking for stress keywords in the name\n",
    "        if any(keyword in name.lower() for keyword in stress_keywords):\n",
    "            event_counts_per_day[due_date.date()] += 1\n",
    "\n",
    "    # Checking if there are too many stressful events in the week\n",
    "    stressful_days = [day for day, count in event_counts_per_day.items() if count >= 3]\n",
    "\n",
    "    # If there are stressful days, add a message to the DataFrame\n",
    "    if len(stressful_days) > 0:\n",
    "        assignments[\"Message\"] = \"Your week looks a bit stressful. Consider making time for yourself.\"\n",
    "\n",
    "    return assignments\n",
    "\n",
    "# Example usage:\n",
    "assignments_df = pd.read_csv(\"assignments.csv\")  # Assuming the file contains \"Name\" and \"Due Date\" columns\n",
    "\n",
    "# Predict stressful week and update DataFrame\n",
    "assignments_with_message = predict_stressful_week(assignments_df)\n",
    "\n",
    "# Save the DataFrame to a CSV file\n",
    "assignments_with_message.to_csv(\"assignments_with_message.csv\", index=False)"
   ]
  }
 ],
 "metadata": {
  "kernelspec": {
   "display_name": "Python 3",
   "language": "python",
   "name": "python3"
  },
  "language_info": {
   "codemirror_mode": {
    "name": "ipython",
    "version": 3
   },
   "file_extension": ".py",
   "mimetype": "text/x-python",
   "name": "python",
   "nbconvert_exporter": "python",
   "pygments_lexer": "ipython3",
   "version": "3.10.6"
  }
 },
 "nbformat": 4,
 "nbformat_minor": 2
}
